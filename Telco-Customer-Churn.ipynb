{
 "cells": [
  {
   "cell_type": "markdown",
   "id": "4e081c38",
   "metadata": {
    "papermill": {
     "duration": 0.00212,
     "end_time": "2023-05-27T10:08:49.345996",
     "exception": false,
     "start_time": "2023-05-27T10:08:49.343876",
     "status": "completed"
    },
    "tags": []
   },
   "source": [
    "<a id=\"1.2\"></a>\n",
    "<div style=\"padding:20px;\n",
    "            color:white;\n",
    "            margin:10;\n",
    "            font-size:170%;\n",
    "            text-align:left;\n",
    "            display:fill;\n",
    "            border-radius:5px;\n",
    "            background-color:#64A36F;\n",
    "            overflow:hidden;\n",
    "            font-weight:700;\n",
    "            font-weight:bold;\"><span style='color:#CDA63A'>|</span> Introduction</div>\n",
    "\n",
    "\n",
    "\n"
   ]
  },
  {
   "cell_type": "markdown",
   "id": "c0cf3cb6",
   "metadata": {
    "papermill": {
     "duration": 0.001329,
     "end_time": "2023-05-27T10:08:49.349114",
     "exception": false,
     "start_time": "2023-05-27T10:08:49.347785",
     "status": "completed"
    },
    "tags": []
   },
   "source": [
    "Telco companies face a critical need to acquire new customers while minimizing customer churn, which incurs significant costs for the company. The primary challenge lies in accurately predicting whether individual customers will churn and identifying the primary factors contributing to churn."
   ]
  },
  {
   "cell_type": "markdown",
   "id": "f859a3c7",
   "metadata": {
    "papermill": {
     "duration": 0.001262,
     "end_time": "2023-05-27T10:08:49.351858",
     "exception": false,
     "start_time": "2023-05-27T10:08:49.350596",
     "status": "completed"
    },
    "tags": []
   },
   "source": [
    "<a id=\"1.2\"></a>\n",
    "<div style=\"padding:20px;\n",
    "            color:white;\n",
    "            margin:10;\n",
    "            font-size:170%;\n",
    "            text-align:left;\n",
    "            display:fill;\n",
    "            border-radius:5px;\n",
    "            background-color:#64A36F;\n",
    "            overflow:hidden;\n",
    "            font-weight:700\"><span style='color:#CDA63A'>|</span> Table of Contents</div>\n"
   ]
  },
  {
   "cell_type": "markdown",
   "id": "824500af",
   "metadata": {
    "papermill": {
     "duration": 0.001296,
     "end_time": "2023-05-27T10:08:49.354607",
     "exception": false,
     "start_time": "2023-05-27T10:08:49.353311",
     "status": "completed"
    },
    "tags": []
   },
   "source": [
    "<a id=\"toc\"></a>\n",
    "- [1. Set-up](#1)\n",
    "    - [1.1 Import Libraries](#1.1)\n",
    "    - [1.2 Import Data](#1.2)\n",
    "    - [1.3 Data Set Characteristics](#1.3)\n",
    "    - [1.4 Dataset Attributes](#1.4)\n",
    "- [2. Exploring data set](#2)\n",
    "    - [2.1 Quick overview](#2.1)\n",
    "- [3. Data preprocessing](#3)\n",
    "    - [3.1 Dealing with missing values](#3.1)\n",
    "    - [3.2 Dealin with error: could not convert string to float:](#3.2)\n",
    "    - [3.3 Dealing with duplicated values](#3.3)\n",
    "    - [3.4 Creating numerical and categorical lists](#3.4)"
   ]
  },
  {
   "cell_type": "markdown",
   "id": "38d99e40",
   "metadata": {
    "papermill": {
     "duration": 0.001221,
     "end_time": "2023-05-27T10:08:49.357275",
     "exception": false,
     "start_time": "2023-05-27T10:08:49.356054",
     "status": "completed"
    },
    "tags": []
   },
   "source": []
  }
 ],
 "metadata": {
  "kernelspec": {
   "display_name": "Python 3",
   "language": "python",
   "name": "python3"
  },
  "language_info": {
   "codemirror_mode": {
    "name": "ipython",
    "version": 3
   },
   "file_extension": ".py",
   "mimetype": "text/x-python",
   "name": "python",
   "nbconvert_exporter": "python",
   "pygments_lexer": "ipython3",
   "version": "3.10.10"
  },
  "papermill": {
   "default_parameters": {},
   "duration": 9.146803,
   "end_time": "2023-05-27T10:08:50.080008",
   "environment_variables": {},
   "exception": null,
   "input_path": "__notebook__.ipynb",
   "output_path": "__notebook__.ipynb",
   "parameters": {},
   "start_time": "2023-05-27T10:08:40.933205",
   "version": "2.4.0"
  }
 },
 "nbformat": 4,
 "nbformat_minor": 5
}
