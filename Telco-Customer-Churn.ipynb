{
 "cells": [
  {
   "cell_type": "code",
   "execution_count": 1,
   "id": "966a66bd",
   "metadata": {
    "_cell_guid": "b1076dfc-b9ad-4769-8c92-a6c4dae69d19",
    "_uuid": "8f2839f25d086af736a60e9eeb907d3b93b6e0e5",
    "execution": {
     "iopub.execute_input": "2023-05-27T09:35:24.449618Z",
     "iopub.status.busy": "2023-05-27T09:35:24.448799Z",
     "iopub.status.idle": "2023-05-27T09:35:24.455082Z",
     "shell.execute_reply": "2023-05-27T09:35:24.453903Z"
    },
    "papermill": {
     "duration": 0.016496,
     "end_time": "2023-05-27T09:35:24.461247",
     "exception": false,
     "start_time": "2023-05-27T09:35:24.444751",
     "status": "completed"
    },
    "tags": []
   },
   "outputs": [],
   "source": [
    "#Telco Customer Churn"
   ]
  },
  {
   "cell_type": "code",
   "execution_count": null,
   "id": "8134258b",
   "metadata": {
    "papermill": {
     "duration": 0.001644,
     "end_time": "2023-05-27T09:35:24.465555",
     "exception": false,
     "start_time": "2023-05-27T09:35:24.463911",
     "status": "completed"
    },
    "tags": []
   },
   "outputs": [],
   "source": []
  }
 ],
 "metadata": {
  "kernelspec": {
   "display_name": "Python 3",
   "language": "python",
   "name": "python3"
  },
  "language_info": {
   "codemirror_mode": {
    "name": "ipython",
    "version": 3
   },
   "file_extension": ".py",
   "mimetype": "text/x-python",
   "name": "python",
   "nbconvert_exporter": "python",
   "pygments_lexer": "ipython3",
   "version": "3.10.10"
  },
  "papermill": {
   "default_parameters": {},
   "duration": 15.238931,
   "end_time": "2023-05-27T09:35:25.391601",
   "environment_variables": {},
   "exception": null,
   "input_path": "__notebook__.ipynb",
   "output_path": "__notebook__.ipynb",
   "parameters": {},
   "start_time": "2023-05-27T09:35:10.152670",
   "version": "2.4.0"
  }
 },
 "nbformat": 4,
 "nbformat_minor": 5
}
