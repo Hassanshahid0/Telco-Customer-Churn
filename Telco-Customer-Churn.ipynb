{
 "cells": [
  {
   "cell_type": "markdown",
   "id": "1ae1c103",
   "metadata": {
    "papermill": {
     "duration": 0.004766,
     "end_time": "2023-05-27T11:15:14.262485",
     "exception": false,
     "start_time": "2023-05-27T11:15:14.257719",
     "status": "completed"
    },
    "tags": []
   },
   "source": [
    "<div style=\"padding:20px;\n",
    "            color:white;\n",
    "            margin:10;\n",
    "            font-size:170%;\n",
    "            text-align:left;\n",
    "            display:fill;\n",
    "            border-radius:5px;\n",
    "            background-color:#64A36F;\n",
    "            overflow:hidden;\n",
    "            font-weight:700;\n",
    "            font-weight:bold;\"><span style='color:#CDA63A'>|</span> Introduction</div>\n",
    "\n",
    "\n",
    "\n"
   ]
  },
  {
   "cell_type": "markdown",
   "id": "cf41b15a",
   "metadata": {
    "papermill": {
     "duration": 0.003932,
     "end_time": "2023-05-27T11:15:14.270852",
     "exception": false,
     "start_time": "2023-05-27T11:15:14.266920",
     "status": "completed"
    },
    "tags": []
   },
   "source": [
    "Telco companies face a critical need to acquire new customers while minimizing customer churn, which incurs significant costs for the company. The primary challenge lies in accurately predicting whether individual customers will churn and identifying the primary factors contributing to churn."
   ]
  },
  {
   "cell_type": "markdown",
   "id": "129b598c",
   "metadata": {
    "papermill": {
     "duration": 0.003794,
     "end_time": "2023-05-27T11:15:14.278834",
     "exception": false,
     "start_time": "2023-05-27T11:15:14.275040",
     "status": "completed"
    },
    "tags": []
   },
   "source": [
    "<div style=\"padding:20px;\n",
    "            color:white;\n",
    "            margin:10;\n",
    "            font-size:170%;\n",
    "            text-align:left;\n",
    "            display:fill;\n",
    "            border-radius:5px;\n",
    "            background-color:#64A36F;\n",
    "            overflow:hidden;\n",
    "            font-weight:700\"><span style='color:#CDA63A'>|</span> Table of Contents</div>\n"
   ]
  },
  {
   "cell_type": "markdown",
   "id": "b78777ae",
   "metadata": {
    "papermill": {
     "duration": 0.004166,
     "end_time": "2023-05-27T11:15:14.287124",
     "exception": false,
     "start_time": "2023-05-27T11:15:14.282958",
     "status": "completed"
    },
    "tags": []
   },
   "source": [
    "<a id=\"toc\"></a>\n",
    "- [1. Set-up](#1)\n",
    "    - [1.1 Import Libraries](#1.1)\n",
    "    - [1.2 Import Data](#1.2)\n",
    "    - [1.3 Understanding data set characteristics](#1.3)\n",
    "    - [1.4 Identifying dataset attributes](#1.4)\n",
    "- [2. Exploring data set](#2)\n",
    "    - [2.1 Quick overview](#2.1)\n",
    "- [3. Data preprocessing](#3)\n",
    "    - [3.1 Dealing with missing values](#3.1)\n",
    "    - [3.2 Dealin with error: could not convert string to float:](#3.2)\n",
    "    - [3.3 Dealing with duplicated values](#3.3)\n",
    "    - [3.4 Creating numerical and categorical lists](#3.4)"
   ]
  },
  {
   "cell_type": "markdown",
   "id": "4926936a",
   "metadata": {
    "papermill": {
     "duration": 0.003934,
     "end_time": "2023-05-27T11:15:14.295377",
     "exception": false,
     "start_time": "2023-05-27T11:15:14.291443",
     "status": "completed"
    },
    "tags": []
   },
   "source": [
    "<a id=\"1.1\"></a>\n",
    "## <b>1.1 <span>Import Libraries</span></b> "
   ]
  },
  {
   "cell_type": "code",
   "execution_count": 1,
   "id": "dfb6c59d",
   "metadata": {
    "execution": {
     "iopub.execute_input": "2023-05-27T11:15:14.305967Z",
     "iopub.status.busy": "2023-05-27T11:15:14.305226Z",
     "iopub.status.idle": "2023-05-27T11:15:14.316367Z",
     "shell.execute_reply": "2023-05-27T11:15:14.315450Z"
    },
    "papermill": {
     "duration": 0.019249,
     "end_time": "2023-05-27T11:15:14.318722",
     "exception": false,
     "start_time": "2023-05-27T11:15:14.299473",
     "status": "completed"
    },
    "tags": []
   },
   "outputs": [],
   "source": [
    "import numpy as np\n",
    "import pandas as pd"
   ]
  },
  {
   "cell_type": "markdown",
   "id": "5c7ad355",
   "metadata": {
    "papermill": {
     "duration": 0.003992,
     "end_time": "2023-05-27T11:15:14.327177",
     "exception": false,
     "start_time": "2023-05-27T11:15:14.323185",
     "status": "completed"
    },
    "tags": []
   },
   "source": [
    "<a id=\"1.2\"></a>\n",
    "## <b>1.2 <span>Import Data</span></b> "
   ]
  },
  {
   "cell_type": "code",
   "execution_count": 2,
   "id": "cff122f8",
   "metadata": {
    "execution": {
     "iopub.execute_input": "2023-05-27T11:15:14.338044Z",
     "iopub.status.busy": "2023-05-27T11:15:14.337340Z",
     "iopub.status.idle": "2023-05-27T11:15:14.458222Z",
     "shell.execute_reply": "2023-05-27T11:15:14.457353Z"
    },
    "papermill": {
     "duration": 0.129315,
     "end_time": "2023-05-27T11:15:14.460737",
     "exception": false,
     "start_time": "2023-05-27T11:15:14.331422",
     "status": "completed"
    },
    "tags": []
   },
   "outputs": [],
   "source": [
    "df_ = pd.read_csv(\"/kaggle/input/telco-customer-churn/WA_Fn-UseC_-Telco-Customer-Churn.csv\")"
   ]
  },
  {
   "cell_type": "markdown",
   "id": "90f34bcd",
   "metadata": {
    "papermill": {
     "duration": 0.004106,
     "end_time": "2023-05-27T11:15:14.469138",
     "exception": false,
     "start_time": "2023-05-27T11:15:14.465032",
     "status": "completed"
    },
    "tags": []
   },
   "source": [
    "<a id=\"1.3\"></a>\n",
    "## <b>1.3 <span>Understanding data set characteristics</span></b> "
   ]
  },
  {
   "cell_type": "markdown",
   "id": "86047e04",
   "metadata": {
    "papermill": {
     "duration": 0.003978,
     "end_time": "2023-05-27T11:15:14.477472",
     "exception": false,
     "start_time": "2023-05-27T11:15:14.473494",
     "status": "completed"
    },
    "tags": []
   },
   "source": [
    "The dataset contains customer information organized in rows, where each row represents an individual customer. The columns in the dataset provide specific details about these customers. \n",
    "\n",
    "* Churn: This column indicates whether a customer has recently terminated their service within the past month.\n",
    "\n",
    "* Services: Each customer's subscription details are listed in this column, including phone, multiple lines, internet, online security, online backup, device protection, tech support, and streaming TV and movies.\n",
    "\n",
    "* Customer account information: This section includes various aspects of a customer's account, such as their tenure as a customer, contract type, payment method, preference for paperless billing, monthly charges, and total charges.\n",
    "\n",
    "* Demographic information: This column provides insights into the customers' demographic characteristics, such as gender, age range, and whether they have partners and dependents."
   ]
  },
  {
   "cell_type": "markdown",
   "id": "14b54e4d",
   "metadata": {
    "papermill": {
     "duration": 0.003884,
     "end_time": "2023-05-27T11:15:14.485529",
     "exception": false,
     "start_time": "2023-05-27T11:15:14.481645",
     "status": "completed"
    },
    "tags": []
   },
   "source": [
    "<a id=\"1.4\"></a>\n",
    "## <b>1.4 <span>Identifying dataset attributes</span></b> "
   ]
  },
  {
   "cell_type": "markdown",
   "id": "6623a1ab",
   "metadata": {
    "papermill": {
     "duration": 0.003974,
     "end_time": "2023-05-27T11:15:14.493712",
     "exception": false,
     "start_time": "2023-05-27T11:15:14.489738",
     "status": "completed"
    },
    "tags": []
   },
   "source": [
    "<link rel=\"stylesheet\" href=\"https://cdnjs.cloudflare.com/ajax/libs/font-awesome/5.15.3/css/all.min.css\" />\n",
    "\n",
    "<table>\n",
    "  <tr>\n",
    "    <th>Attribute</th>\n",
    "    <th>Icon</th>\n",
    "    <th>Description</th>\n",
    "  </tr>\n",
    "  <tr>\n",
    "    <td>customerID</td>\n",
    "    <td><i class=\"fas fa-id-card\"></i></td>\n",
    "    <td>Customer ID</td>\n",
    "  </tr>\n",
    "  <tr>\n",
    "    <td>gender</td>\n",
    "    <td><i class=\"fas fa-venus-mars\"></i></td>\n",
    "    <td>Whether the customer is a male or a female</td>\n",
    "  </tr>\n",
    "  <tr>\n",
    "    <td>SeniorCitizen</td>\n",
    "    <td><i class=\"fas fa-user-alt\"></i></td>\n",
    "    <td>Whether the customer is a senior citizen (1, 0)</td>\n",
    "  </tr>\n",
    "  <tr>\n",
    "    <td>Partner</td>\n",
    "    <td><i class=\"fas fa-users\"></i></td>\n",
    "    <td>Whether the customer has a partner (Yes, No)</td>\n",
    "  </tr>\n",
    "  <tr>\n",
    "    <td>Dependents</td>\n",
    "    <td><i class=\"fas fa-child\"></i></td>\n",
    "    <td>Whether the customer has dependents (Yes, No)</td>\n",
    "  </tr>\n",
    "  <tr>\n",
    "    <td>tenure</td>\n",
    "    <td><i class=\"fas fa-hourglass-half\"></i></td>\n",
    "    <td>Number of months the customer has stayed with the company</td>\n",
    "  </tr>\n",
    "  <tr>\n",
    "    <td>PhoneService</td>\n",
    "    <td><i class=\"fas fa-phone\"></i></td>\n",
    "    <td>Whether the customer has a phone service (Yes, No)</td>\n",
    "  </tr>\n",
    "  <tr>\n",
    "    <td>MultipleLines</td>\n",
    "    <td><i class=\"fas fa-project-diagram\"></i></td>\n",
    "    <td>Whether the customer has multiple lines (Yes, No, No phone service)</td>\n",
    "  </tr>\n",
    "  <tr>\n",
    "    <td>InternetService</td>\n",
    "    <td><i class=\"fas fa-wifi\"></i></td>\n",
    "    <td>Customer’s internet service provider (DSL, Fiber optic, No)</td>\n",
    "  </tr>\n",
    "  <tr>\n",
    "    <td>OnlineSecurity</td>\n",
    "    <td><i class=\"fas fa-shield-alt\"></i></td>\n",
    "    <td>Whether the customer has online security (Yes, No, No internet service)</td>\n",
    "  </tr>\n",
    "  <tr>\n",
    "    <td>OnlineBackup</td>\n",
    "    <td><i class=\"fas fa-hdd\"></i></td>\n",
    "    <td>Whether the customer has online backup or not (Yes, No, No internet service)</td>\n",
    "  </tr>\n",
    "  <tr>\n",
    "    <td>DeviceProtection</td>\n",
    "    <td><i class=\"fas fa-shield-virus\"></i></td>\n",
    "    <td>Whether the customer has device protection (Yes, No, No internet service)</td>\n",
    "  </tr>\n",
    "  <tr>\n",
    "    <td>TechSupport</td>\n",
    "    <td><i class=\"fas fa-headset\"></i></td>\n",
    "    <td>Whether the customer has tech support (Yes, No, No internet service)</td>\n",
    "  </tr>\n",
    "  <tr>\n",
    "    <td>StreamingTV</td>\n",
    "    <td><i class=\"fas fa-tv\"></i></td>\n",
    "    <td>Whether the customer has streaming TV service (Yes, No, No internet service)</td>\n",
    "  </tr>\n",
    "  <tr>\n",
    "    <td>StreamingMovies</td>\n",
    "    <td><i class=\"fas fa-film\"></i></td>\n",
    "    <td>Whether the customer has streaming movies service (Yes, No, No internet service)</td>\n",
    "  </tr>\n",
    "  <tr>\n",
    "    <td>Contract</td>\n",
    "    <td><i class=\"fas fa-file-contract\"></i></td>\n",
    "    <td>Indicates the type of contract (Month-to-month, One year, Two year)</td>\n",
    "  </tr>\n",
    "  <tr>\n",
    "    <td>PaperlessBilling</td>\n",
    "    <td><i class=\"fas fa-file-invoice-dollar\"></i></td>\n",
    "    <td>Whether the customer has paperless billing (Yes, No)</td>\n",
    "  </tr>\n",
    "  <tr>\n",
    "    <td>PaymentMethod</td>\n",
    "    <td><i class=\"fas fa-credit-card\"></i></td>\n",
    "    <td>Indicates the payment method (Electronic check, Mailed check, Bank transfer (automatic), Credit card (automatic))</td>\n",
    "  </tr>\n",
    "  <tr>\n",
    "    <td>MonthlyCharges</td>\n",
    "    <td><i class=\"fas fa-dollar-sign\"></i></td>\n",
    "    <td>Indicates the current monthly subscription cost of the customer</td>\n",
    "  </tr>\n",
    "  <tr>\n",
    "    <td>TotalCharges</td>\n",
    "    <td><i class=\"fas fa-dollar-sign\"></i></td>\n",
    "    <td>Indicates the total charges paid by the customer so far</td>\n",
    "  </tr>\n",
    "  <tr>\n",
    "    <td>Churn</td>\n",
    "    <td><i class=\"fas fa-sign-out-alt\"></i></td>\n",
    "    <td>Indicates whether the customer churned</td>\n",
    "  </tr>\n",
    "</table>\n"
   ]
  },
  {
   "cell_type": "code",
   "execution_count": null,
   "id": "b6fae4d9",
   "metadata": {
    "papermill": {
     "duration": 0.003858,
     "end_time": "2023-05-27T11:15:14.503267",
     "exception": false,
     "start_time": "2023-05-27T11:15:14.499409",
     "status": "completed"
    },
    "tags": []
   },
   "outputs": [],
   "source": []
  }
 ],
 "metadata": {
  "kernelspec": {
   "display_name": "Python 3",
   "language": "python",
   "name": "python3"
  },
  "language_info": {
   "codemirror_mode": {
    "name": "ipython",
    "version": 3
   },
   "file_extension": ".py",
   "mimetype": "text/x-python",
   "name": "python",
   "nbconvert_exporter": "python",
   "pygments_lexer": "ipython3",
   "version": "3.10.10"
  },
  "papermill": {
   "default_parameters": {},
   "duration": 13.464542,
   "end_time": "2023-05-27T11:15:15.429760",
   "environment_variables": {},
   "exception": null,
   "input_path": "__notebook__.ipynb",
   "output_path": "__notebook__.ipynb",
   "parameters": {},
   "start_time": "2023-05-27T11:15:01.965218",
   "version": "2.4.0"
  }
 },
 "nbformat": 4,
 "nbformat_minor": 5
}
